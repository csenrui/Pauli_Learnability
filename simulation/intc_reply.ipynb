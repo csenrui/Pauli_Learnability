{
 "cells": [
  {
   "cell_type": "code",
   "execution_count": 41,
   "metadata": {},
   "outputs": [],
   "source": [
    "import numpy as np\n",
    "import sys, json, copy, time, pickle, random\n",
    "import matplotlib.pyplot as plt\n",
    "from scipy.stats import sem, unitary_group\n",
    "import CB_process\n",
    "import itertools\n",
    "# from qiskit.compiler import transpile\n",
    "\n",
    "#Change test\n",
    "\n",
    "use_density_matrix = False # density matrix based / measurement based simulation\n",
    "\n",
    "# filename_label = 'simulation_intc_20221024_0400617335' #exp1\n",
    "filename_label = 'simulation_intc_20221024_1856566799' #exp3\n",
    "\n",
    "with open('data/' + filename_label + '_full', 'rb') as infile:\n",
    "    data = pickle.load(infile)\n",
    "token = data[\"token\"]\n",
    "\n",
    "result = {}\n",
    "\n",
    "############# exp 3: intc_CB\n",
    "\n",
    "# parity_pauli_sample_list = [('XX',0),('IX',1),('ZZ',0),('ZI',1)]\n",
    "parity_pauli_sample_list = [('ZZ',0),('ZI',1)]\n",
    "cb = data['intc_cb']\n",
    "\n",
    "use_boostrap = False\n",
    "shots_max = 0\n",
    "\n",
    "s_list = {}"
   ]
  },
  {
   "cell_type": "code",
   "execution_count": 37,
   "metadata": {},
   "outputs": [],
   "source": [
    "C_max = 30"
   ]
  },
  {
   "cell_type": "code",
   "execution_count": 38,
   "metadata": {},
   "outputs": [
    {
     "name": "stdout",
     "output_type": "stream",
     "text": [
      "intc_cb_ZZ\n",
      "[1, 2, 4, 8, 16, 32]\n",
      "intc_cb_ZI\n",
      "[2, 3, 5, 9, 17, 33]\n",
      "Label / Pauli infidelity / Std(fidelity) / Intercept / Std(intercept)\n",
      "('ZZ', 0) 0.00768 0.00016 0.00140 0.00086\n",
      "('ZI', 1) 0.00742 0.00015 0.00555 0.00113\n",
      "Label / Pauli infidelity (decoupled)/ Std\n",
      "ZZ 0.01167 0.00121\n",
      "ZI 0.00341 0.00122\n"
     ]
    }
   ],
   "source": [
    "\n",
    "# # fidelity_list = {} \n",
    "# # stdev_list = {}\n",
    "# # intercept_list = {}\n",
    "# # intercept_std_list = {}\n",
    "# # covar_list = {}\n",
    "# params_list = {}\n",
    "# pcov_list = {}\n",
    "\n",
    "# for tag in cb:\n",
    "#     print(tag)\n",
    "#     cb_data = cb[tag]\n",
    "#     n = cb_data[\"parameters\"]['n']\n",
    "#     n_total = cb_data[\"parameters\"]['n_total']\n",
    "#     shots = cb_data[\"parameters\"]['shots']\n",
    "#     Lrange = cb_data[\"parameters\"]['Lrange']\n",
    "\n",
    "#     print(Lrange)\n",
    "\n",
    "#     C = cb_data[\"parameters\"]['C']\n",
    "#     repeat = cb_data[\"parameters\"]['repeat']\n",
    "#     pauli_sample = cb_data[\"parameters\"]['pauli']\n",
    "#     parity = cb_data[\"parameters\"]['parity']\n",
    "\n",
    "#     cb_result = CB_process.process_CB(n, C, shots, 1, Lrange, cb_data, pauli_sample = pauli_sample,repeat=repeat, periodic=True,use_density_matrix=use_density_matrix,intercept_cb=True,C_max=C_max,shots_max=shots_max,use_boostrap=use_boostrap)\n",
    "#     raw_fidelity_list = cb_result[\"fidelity_list\"]\n",
    "\n",
    "\n",
    "#     for sub_label in raw_fidelity_list.keys():\n",
    "#         if (sub_label,parity) in params_list:\n",
    "#             continue\n",
    "#         elif(sub_label == 'I'*n):\n",
    "#             params_list = np.array([1.0,1.0])\n",
    "#             pcov_list = np.array([[0.0,0.0],[0.0,0.0]])\n",
    "#         else:\n",
    "#             params, pcov = CB_process.fit_CB_all(Lrange, raw_fidelity_list[sub_label])\n",
    "#             params_list[(sub_label,parity)] = params\n",
    "#             pcov_list[(sub_label,parity)] = pcov\n",
    "#             # note: parameters = (intercept, slope)\n",
    "\n",
    "# noise_after_the_gate = True\n",
    "# dec_fidelity_list = {}\n",
    "# dec_stdev_list = {}\n",
    "# for k in range(0,len(parity_pauli_sample_list),2):\n",
    "#     pp1 = parity_pauli_sample_list[k]\n",
    "#     pp2 = parity_pauli_sample_list[k+1]\n",
    "#     # f = (fidelity_list[pp1]+fidelity_list[pp2])/2\n",
    "#     # r = (intercept_list[pp2]/intercept_list[pp1])\n",
    "#     f = (params_list[pp1][1] + params_list[pp2][1])/2\n",
    "#     r = (params_list[pp2][0]/params_list[pp1][0])\n",
    "#     if noise_after_the_gate is True:\n",
    "#         lambda1 = f * r\n",
    "#         lambda2 = f / r\n",
    "#     else:\n",
    "#         lambda1 = f / r\n",
    "#         lambda2 = f * r\n",
    "#     # propagation of uncertainty\n",
    "#     s1, s2 =  CB_process.calculate_uncertainty(params_list[pp1],params_list[pp2],pcov_list[pp1],pcov_list[pp1])\n",
    "\n",
    "#     dec_fidelity_list[pp1[0]] = lambda1\n",
    "#     dec_fidelity_list[pp2[0]] = lambda2\n",
    "#     dec_stdev_list[pp1[0]] = s1\n",
    "#     dec_stdev_list[pp2[0]] = s2\n",
    "\n",
    "# print(\"Label / Pauli infidelity / Std(fidelity) / Intercept / Std(intercept)\")\n",
    "# for pauli_label in parity_pauli_sample_list:\n",
    "#     print(str(pauli_label)+\" %.5f %.5f %.5f %.5f\"%(1-params_list[pauli_label][1], np.sqrt(pcov_list[pauli_label][1,1]), 1-params_list[pauli_label][0], np.sqrt(pcov_list[pauli_label][0,0])))\n",
    "\n",
    "\n",
    "# print(\"Label / Pauli infidelity (decoupled)/ Std\")\n",
    "# for pauli_label in parity_pauli_sample_list:\n",
    "#     print(str(pauli_label[0])+\" %.5f %.5f\"%(1-dec_fidelity_list[pauli_label[0]],dec_stdev_list[pauli_label[0]]))\n",
    "\n",
    "# result['intc_cb'] = {\n",
    "#     \"params\":       params_list,\n",
    "#     \"pcov\":         pcov_list,\n",
    "#     \"dec_fidelity\": dec_fidelity_list,\n",
    "#     \"dec_stdev\":    dec_stdev_list,\n",
    "#     \"n\":            n,\n",
    "#     \"n_total\":      n_total,\n",
    "#     \"Lrange\":       Lrange,\n",
    "#     \"C\":            C,\n",
    "#     \"shots\":        shots,\n",
    "#     \"batch\":        1,\n",
    "#     \"repeat\":       repeat,\n",
    "#     \"parity_pauli_sample_list\": parity_pauli_sample_list\n",
    "# }\n",
    "\n",
    "# # filename = 'data/' + filename_label + '_result'\n",
    "# # with open(filename, 'wb') as outfile:\n",
    "# #     pickle.dump(result, outfile)\n",
    "\n",
    "# # s_list[C_max] = dec_stdev_list['ZZ']\n",
    "# # print(s_list[C_max])"
   ]
  },
  {
   "cell_type": "code",
   "execution_count": null,
   "metadata": {},
   "outputs": [],
   "source": []
  },
  {
   "cell_type": "code",
   "execution_count": 88,
   "metadata": {},
   "outputs": [],
   "source": [
    "# 6 x 50 circuits\n",
    "#\n",
    "# intc_cb_ZZ\n",
    "# intc_cb_ZI\n",
    "# Label / Pauli infidelity / Std(fidelity) / Intercept / Std(intercept)\n",
    "# ('ZZ', 0) 0.00769 0.00014 0.00076 0.00076\n",
    "# ('ZI', 1) 0.00732 0.00011 0.00481 0.00059\n",
    "# Label / Pauli infidelity (decoupled)/ Std\n",
    "# ZZ 0.01153 0.00107\n",
    "# ZI 0.00347 0.00108"
   ]
  },
  {
   "cell_type": "code",
   "execution_count": 131,
   "metadata": {},
   "outputs": [
    {
     "data": {
      "text/plain": [
       "{10: 0.002454589469131299,\n",
       " 20: 0.0013055155261895211,\n",
       " 30: 0.0012124440616752593,\n",
       " 40: 0.0010825709579309324,\n",
       " 50: 0.0009143207075018747}"
      ]
     },
     "execution_count": 131,
     "metadata": {},
     "output_type": "execute_result"
    }
   ],
   "source": [
    "s_list"
   ]
  },
  {
   "cell_type": "code",
   "execution_count": 53,
   "metadata": {},
   "outputs": [],
   "source": [
    "C_max = 30"
   ]
  },
  {
   "cell_type": "code",
   "execution_count": 54,
   "metadata": {},
   "outputs": [
    {
     "name": "stdout",
     "output_type": "stream",
     "text": [
      "intc_cb_ZZ\n",
      "intc_cb_ZI\n"
     ]
    }
   ],
   "source": [
    "\n",
    "# fidelity_list = {} \n",
    "# stdev_list = {}\n",
    "# intercept_list = {}\n",
    "# intercept_std_list = {}\n",
    "# covar_list = {}\n",
    "params_list = {}\n",
    "pcov_list = {}\n",
    "\n",
    "all_f = {}\n",
    "\n",
    "for tag in cb:\n",
    "    print(tag)\n",
    "    cb_data = cb[tag]\n",
    "    n = cb_data[\"parameters\"]['n']\n",
    "    n_total = cb_data[\"parameters\"]['n_total']\n",
    "    shots = cb_data[\"parameters\"]['shots']\n",
    "    Lrange = cb_data[\"parameters\"]['Lrange']\n",
    "    C = cb_data[\"parameters\"]['C']\n",
    "    repeat = cb_data[\"parameters\"]['repeat']\n",
    "    pauli_sample = cb_data[\"parameters\"]['pauli']\n",
    "    parity = cb_data[\"parameters\"]['parity']\n",
    "\n",
    "    cb_result = CB_process.process_CB(n, C, shots, 1, Lrange, cb_data, pauli_sample = pauli_sample,repeat=repeat, periodic=True,use_density_matrix=use_density_matrix,intercept_cb=True,C_max=C_max,shots_max=shots_max,use_boostrap=use_boostrap)\n",
    "    raw_fidelity_list = cb_result[\"fidelity_list\"]\n",
    "\n",
    "    all_f[list(raw_fidelity_list.keys())[0]] = list(raw_fidelity_list.values())[0]\n"
   ]
  },
  {
   "cell_type": "code",
   "execution_count": 55,
   "metadata": {},
   "outputs": [],
   "source": [
    "ave_f = {}\n",
    "sem_f = {}\n",
    "\n",
    "ave_f[0] = np.mean(all_f['ZZ'][0][0:C_max*6])\n",
    "sem_f[0] = sem(all_f['ZZ'][0][0:C_max*6])\n",
    "\n",
    "ave_f[1] = np.mean(all_f['ZI'][1][0:C_max*6])\n",
    "sem_f[1] = sem(all_f['ZI'][1][0:C_max*6])"
   ]
  },
  {
   "cell_type": "code",
   "execution_count": 56,
   "metadata": {},
   "outputs": [
    {
     "data": {
      "text/plain": [
       "({0: 0.9962333333333332, 1: 0.9865999999999998},\n",
       " {0: 0.0004002393919658912, 1: 0.0011382583994454195})"
      ]
     },
     "execution_count": 56,
     "metadata": {},
     "output_type": "execute_result"
    }
   ],
   "source": [
    "ave_f, sem_f"
   ]
  },
  {
   "cell_type": "code",
   "execution_count": 57,
   "metadata": {},
   "outputs": [
    {
     "data": {
      "text/plain": [
       "(0.009669756081239433, 0.0012124440616752593)"
      ]
     },
     "execution_count": 57,
     "metadata": {},
     "output_type": "execute_result"
    }
   ],
   "source": [
    "1 - ave_f[1]/ave_f[0], np.sqrt(sem_f[1]**2/ave_f[0]**2 + sem_f[0]**2*ave_f[1]**2/ave_f[1]**4)\n"
   ]
  },
  {
   "cell_type": "code",
   "execution_count": 58,
   "metadata": {},
   "outputs": [],
   "source": [
    "\n",
    "s_list[C_max] = np.sqrt(sem_f[1]**2/ave_f[0]**2 + sem_f[0]**2*ave_f[1]**2/ave_f[1]**4)"
   ]
  },
  {
   "cell_type": "code",
   "execution_count": 129,
   "metadata": {},
   "outputs": [],
   "source": [
    "\n",
    "#     for sub_label in raw_fidelity_list.keys():\n",
    "#         if (sub_label,parity) in params_list:\n",
    "#             continue\n",
    "#         elif(sub_label == 'I'*n):\n",
    "#             params_list = np.array([1.0,1.0])\n",
    "#             pcov_list = np.array([[0.0,0.0],[0.0,0.0]])\n",
    "#         else:\n",
    "#             params, pcov = CB_process.fit_CB_all(Lrange, raw_fidelity_list[sub_label])\n",
    "#             params_list[(sub_label,parity)] = params\n",
    "#             pcov_list[(sub_label,parity)] = pcov\n",
    "#             # note: parameters = (intercept, slope)\n",
    "\n",
    "# noise_after_the_gate = True\n",
    "# dec_fidelity_list = {}\n",
    "# dec_stdev_list = {}\n",
    "# for k in range(0,len(parity_pauli_sample_list),2):\n",
    "#     pp1 = parity_pauli_sample_list[k]\n",
    "#     pp2 = parity_pauli_sample_list[k+1]\n",
    "#     # f = (fidelity_list[pp1]+fidelity_list[pp2])/2\n",
    "#     # r = (intercept_list[pp2]/intercept_list[pp1])\n",
    "#     f = (params_list[pp1][1] + params_list[pp2][1])/2\n",
    "#     r = (params_list[pp2][0]/params_list[pp1][0])\n",
    "#     if noise_after_the_gate is True:\n",
    "#         lambda1 = f * r\n",
    "#         lambda2 = f / r\n",
    "#     else:\n",
    "#         lambda1 = f / r\n",
    "#         lambda2 = f * r\n",
    "#     # propagation of uncertainty\n",
    "#     s1, s2 =  CB_process.calculate_uncertainty(params_list[pp1],params_list[pp2],pcov_list[pp1],pcov_list[pp1])\n",
    "\n",
    "#     dec_fidelity_list[pp1[0]] = lambda1\n",
    "#     dec_fidelity_list[pp2[0]] = lambda2\n",
    "#     dec_stdev_list[pp1[0]] = s1\n",
    "#     dec_stdev_list[pp2[0]] = s2\n",
    "\n",
    "# print(\"Label / Pauli infidelity / Std(fidelity) / Intercept / Std(intercept)\")\n",
    "# for pauli_label in parity_pauli_sample_list:\n",
    "#     print(str(pauli_label)+\" %.5f %.5f %.5f %.5f\"%(1-params_list[pauli_label][1], np.sqrt(pcov_list[pauli_label][1,1]), 1-params_list[pauli_label][0], np.sqrt(pcov_list[pauli_label][0,0])))\n",
    "\n",
    "\n",
    "# print(\"Label / Pauli infidelity (decoupled)/ Std\")\n",
    "# for pauli_label in parity_pauli_sample_list:\n",
    "#     print(str(pauli_label[0])+\" %.5f %.5f\"%(1-dec_fidelity_list[pauli_label[0]],dec_stdev_list[pauli_label[0]]))\n",
    "\n",
    "# result['intc_cb'] = {\n",
    "#     \"params\":       params_list,\n",
    "#     \"pcov\":         pcov_list,\n",
    "#     \"dec_fidelity\": dec_fidelity_list,\n",
    "#     \"dec_stdev\":    dec_stdev_list,\n",
    "#     \"n\":            n,\n",
    "#     \"n_total\":      n_total,\n",
    "#     \"Lrange\":       Lrange,\n",
    "#     \"C\":            C,\n",
    "#     \"shots\":        shots,\n",
    "#     \"batch\":        1,\n",
    "#     \"repeat\":       repeat,\n",
    "#     \"parity_pauli_sample_list\": parity_pauli_sample_list\n",
    "# }\n",
    "\n",
    "# # filename = 'data/' + filename_label + '_result'\n",
    "# # with open(filename, 'wb') as outfile:\n",
    "# #     pickle.dump(result, outfile)\n"
   ]
  },
  {
   "cell_type": "code",
   "execution_count": 34,
   "metadata": {},
   "outputs": [],
   "source": [
    "#data 6 depths\n",
    "s6 = {10: 0.0016754429306812587,\n",
    " 20: 0.0012024967716552553,\n",
    " 30: 0.0012069420859954377,\n",
    " 40: 0.0010705637067439536,\n",
    " 50: 0.0009669370130978098}"
   ]
  },
  {
   "cell_type": "code",
   "execution_count": 35,
   "metadata": {},
   "outputs": [],
   "source": [
    "#data 1 step\n",
    "s1 = {10: 0.002454589469131299,\n",
    " 20: 0.0013055155261895211,\n",
    " 30: 0.0012124440616752593,\n",
    " 40: 0.0010825709579309324,\n",
    " 50: 0.0009143207075018747}"
   ]
  },
  {
   "cell_type": "code",
   "execution_count": 36,
   "metadata": {},
   "outputs": [
    {
     "data": {
      "text/plain": [
       "Text(0.5, 1.0, 'Intercept CB vs. 1-depth')"
      ]
     },
     "execution_count": 36,
     "metadata": {},
     "output_type": "execute_result"
    },
    {
     "data": {
      "image/png": "[encoded data removed]",
      "text/plain": [
       "<Figure size 640x480 with 1 Axes>"
      ]
     },
     "metadata": {},
     "output_type": "display_data"
    }
   ],
   "source": [
    "plt.figure()\n",
    "plt.grid(True)\n",
    "C = [6*x for x in [10,20,30,40,50]]\n",
    "plt.plot(C, list(s1.values()), marker = 'o')\n",
    "plt.plot(C, list(s6.values()), marker = 'o')\n",
    "plt.legend([\"1-depth\",\"6-depth\"])\n",
    "plt.xlabel(\"Total number of random circuits\")\n",
    "plt.ylabel(\"Standard deviation\")\n",
    "plt.title(\"Intercept CB vs. 1-depth\")"
   ]
  }
 ],
 "metadata": {
  "interpreter": {
   "hash": "3b13663c51aa6e660f26ff00030751d9973bd67a78de696bda648652d86a5dc3"
  },
  "kernelspec": {
   "display_name": "Python 3.9.7 ('venv': venv)",
   "language": "python",
   "name": "python3"
  },
  "language_info": {
   "codemirror_mode": {
    "name": "ipython",
    "version": 3
   },
   "file_extension": ".py",
   "mimetype": "text/x-python",
   "name": "python",
   "nbconvert_exporter": "python",
   "pygments_lexer": "ipython3",
   "version": "3.9.7"
  },
  "orig_nbformat": 4
 },
 "nbformat": 4,
 "nbformat_minor": 2
}
